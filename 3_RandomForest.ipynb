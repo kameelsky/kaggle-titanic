{
 "cells": [
  {
   "cell_type": "markdown",
   "metadata": {},
   "source": [
    "## Importing libraries"
   ]
  },
  {
   "cell_type": "code",
   "execution_count": 20,
   "metadata": {},
   "outputs": [],
   "source": [
    "from utilities.transfrom import data_transform\n",
    "from utilities.modeling import Model\n",
    "import seaborn as sns\n",
    "import matplotlib.pyplot as plt\n",
    "import pandas as pd\n",
    "\n",
    "from sklearn.model_selection import GridSearchCV, StratifiedKFold\n",
    "from sklearn.ensemble import RandomForestClassifier\n",
    "from sklearn.feature_selection import RFECV\n",
    "\n",
    "sns.set_style(\"ticks\")"
   ]
  },
  {
   "cell_type": "code",
   "execution_count": 3,
   "metadata": {},
   "outputs": [],
   "source": [
    "# Import and transfrom the data in accordance to conslusions made in '1_Data'\n",
    "df = pd.read_csv(\"./data/train.csv\")\n",
    "df_train = data_transform(df)"
   ]
  },
  {
   "cell_type": "code",
   "execution_count": 4,
   "metadata": {},
   "outputs": [
    {
     "data": {
      "text/html": [
       "<div>\n",
       "<style scoped>\n",
       "    .dataframe tbody tr th:only-of-type {\n",
       "        vertical-align: middle;\n",
       "    }\n",
       "\n",
       "    .dataframe tbody tr th {\n",
       "        vertical-align: top;\n",
       "    }\n",
       "\n",
       "    .dataframe thead th {\n",
       "        text-align: right;\n",
       "    }\n",
       "</style>\n",
       "<table border=\"1\" class=\"dataframe\">\n",
       "  <thead>\n",
       "    <tr style=\"text-align: right;\">\n",
       "      <th></th>\n",
       "      <th>Survived</th>\n",
       "      <th>Age</th>\n",
       "      <th>Fare</th>\n",
       "      <th>TravelAlone</th>\n",
       "      <th>Pclass_2</th>\n",
       "      <th>Pclass_3</th>\n",
       "      <th>Embarked_Q</th>\n",
       "      <th>Embarked_S</th>\n",
       "      <th>Sex_male</th>\n",
       "    </tr>\n",
       "  </thead>\n",
       "  <tbody>\n",
       "    <tr>\n",
       "      <th>0</th>\n",
       "      <td>0</td>\n",
       "      <td>22</td>\n",
       "      <td>7.2500</td>\n",
       "      <td>0</td>\n",
       "      <td>0</td>\n",
       "      <td>1</td>\n",
       "      <td>0</td>\n",
       "      <td>1</td>\n",
       "      <td>1</td>\n",
       "    </tr>\n",
       "    <tr>\n",
       "      <th>1</th>\n",
       "      <td>1</td>\n",
       "      <td>38</td>\n",
       "      <td>71.2833</td>\n",
       "      <td>0</td>\n",
       "      <td>0</td>\n",
       "      <td>0</td>\n",
       "      <td>0</td>\n",
       "      <td>0</td>\n",
       "      <td>0</td>\n",
       "    </tr>\n",
       "    <tr>\n",
       "      <th>2</th>\n",
       "      <td>1</td>\n",
       "      <td>26</td>\n",
       "      <td>7.9250</td>\n",
       "      <td>1</td>\n",
       "      <td>0</td>\n",
       "      <td>1</td>\n",
       "      <td>0</td>\n",
       "      <td>1</td>\n",
       "      <td>0</td>\n",
       "    </tr>\n",
       "    <tr>\n",
       "      <th>3</th>\n",
       "      <td>1</td>\n",
       "      <td>35</td>\n",
       "      <td>53.1000</td>\n",
       "      <td>0</td>\n",
       "      <td>0</td>\n",
       "      <td>0</td>\n",
       "      <td>0</td>\n",
       "      <td>1</td>\n",
       "      <td>0</td>\n",
       "    </tr>\n",
       "    <tr>\n",
       "      <th>4</th>\n",
       "      <td>0</td>\n",
       "      <td>35</td>\n",
       "      <td>8.0500</td>\n",
       "      <td>1</td>\n",
       "      <td>0</td>\n",
       "      <td>1</td>\n",
       "      <td>0</td>\n",
       "      <td>1</td>\n",
       "      <td>1</td>\n",
       "    </tr>\n",
       "  </tbody>\n",
       "</table>\n",
       "</div>"
      ],
      "text/plain": [
       "   Survived  Age     Fare  ...  Embarked_Q  Embarked_S  Sex_male\n",
       "0         0   22   7.2500  ...           0           1         1\n",
       "1         1   38  71.2833  ...           0           0         0\n",
       "2         1   26   7.9250  ...           0           1         0\n",
       "3         1   35  53.1000  ...           0           1         0\n",
       "4         0   35   8.0500  ...           0           1         1\n",
       "\n",
       "[5 rows x 9 columns]"
      ]
     },
     "execution_count": 4,
     "metadata": {},
     "output_type": "execute_result"
    }
   ],
   "source": [
    "# Printing the heads\n",
    "df_train.head()"
   ]
  },
  {
   "cell_type": "code",
   "execution_count": 5,
   "metadata": {},
   "outputs": [
    {
     "data": {
      "text/plain": [
       "Survived         int32\n",
       "Age              int32\n",
       "Fare           float64\n",
       "TravelAlone      int32\n",
       "Pclass_2         int32\n",
       "Pclass_3         int32\n",
       "Embarked_Q       int32\n",
       "Embarked_S       int32\n",
       "Sex_male         int32\n",
       "dtype: object"
      ]
     },
     "execution_count": 5,
     "metadata": {},
     "output_type": "execute_result"
    }
   ],
   "source": [
    "df_train.dtypes"
   ]
  },
  {
   "cell_type": "markdown",
   "metadata": {},
   "source": [
    "## ML model: Random Forest"
   ]
  },
  {
   "cell_type": "code",
   "execution_count": 6,
   "metadata": {},
   "outputs": [],
   "source": [
    "# Predictors\n",
    "X = df_train[['Age', 'Fare', 'TravelAlone', 'Pclass_2', 'Pclass_3','Embarked_Q', 'Embarked_S', 'Sex_male']]\n",
    "\n",
    "# Dependent variable\n",
    "y = df_train[\"Survived\"]"
   ]
  },
  {
   "cell_type": "markdown",
   "metadata": {},
   "source": [
    "### Random Forest (Grid search combined with recursive feature elimination)\n",
    "\n",
    "To alleviate the computer's workload, certain portions of the code related to GridCV and RFECV have been encapsulated within functions and executed only once.\n",
    "The model with optimized hyperparametrs and stored as variables: **model** and **features**."
   ]
  },
  {
   "cell_type": "code",
   "execution_count": 7,
   "metadata": {},
   "outputs": [],
   "source": [
    "# Function to perform grid search with cross-validation\n",
    "def grid_search(model: object, mapping_template: dict, cross_validation, fitting: tuple) -> object: \n",
    "    grid = GridSearchCV(estimator=model, param_grid=mapping_template, cv=cross_validation, scoring=[\"accuracy\", \"roc_auc\"], refit=\"accuracy\")\n",
    "    grid.fit(*fitting)\n",
    "    \n",
    "    print(grid.best_estimator_.__str__())\n",
    "    print(f\"Accuracy: {grid.best_score_.round(3)}\")\n",
    "    for key, value in grid.best_params_.items():\n",
    "        print(f\"{key}: {value}\")\n",
    "    \n",
    "    return grid.best_estimator_\n",
    "\n",
    "# cross-validator\n",
    "skf = StratifiedKFold(n_splits=10, shuffle=True, random_state=42)"
   ]
  },
  {
   "cell_type": "code",
   "execution_count": 10,
   "metadata": {},
   "outputs": [],
   "source": [
    "# Grid search iteration: 1\n",
    "mapping = {\n",
    "    'criterion': ['entropy', 'gini'], # The function to measure the quality of a split\n",
    "    'n_estimators': [50, 100, 150], # Number of estimators\n",
    "    'max_depth': [2, 4, 8, 16, 32], # Maximum depth of the tree\n",
    "    'min_samples_split': [2, 4, 8, 16, 32], # Minimum samples required to split an internal node\n",
    "    'min_samples_leaf': [2, 4, 8, 16, 32] # Minimum number of samples required to be at a leaf node\n",
    "    }\n",
    "\n",
    "# grid_search(model=RandomForestClassifier(random_state=42), mapping_template=mapping, cross_validation=skf, fitting=(X,y))\n",
    "\n",
    "# RandomForestClassifier(max_depth=32, min_samples_leaf=2, n_estimators=50,\n",
    "#                        random_state=42)\n",
    "# Accuracy: 0.834\n",
    "# criterion: gini\n",
    "# max_depth: 32\n",
    "# min_samples_leaf: 2\n",
    "# min_samples_split: 2\n",
    "# n_estimators: 50"
   ]
  },
  {
   "cell_type": "code",
   "execution_count": 12,
   "metadata": {},
   "outputs": [],
   "source": [
    "# Grid search iteration: 2\n",
    "mapping = {\n",
    "    'criterion': ['gini'], # The function to measure the quality of a split\n",
    "    'n_estimators': [25, 50, 75], # Number of estimators\n",
    "    'max_depth': [20, 32, 40], # Maximum depth of the tree\n",
    "    'min_samples_split': [2, 4, 8], # Minimum samples required to split an internal node\n",
    "    'min_samples_leaf': [2, 4, 8] # Minimum number of samples required to be at a leaf node\n",
    "    }\n",
    "\n",
    "# grid_search(model=RandomForestClassifier(random_state=42), mapping_template=mapping, cross_validation=skf, fitting=(X,y))\n",
    "\n",
    "# RandomForestClassifier(max_depth=20, min_samples_leaf=2, n_estimators=50,\n",
    "#                        random_state=42)\n",
    "# Accuracy: 0.835\n",
    "# criterion: gini\n",
    "# max_depth: 20\n",
    "# min_samples_leaf: 2\n",
    "# min_samples_split: 2\n",
    "# n_estimators: 50"
   ]
  },
  {
   "cell_type": "code",
   "execution_count": 16,
   "metadata": {},
   "outputs": [],
   "source": [
    "# Grid search iteration: 3\n",
    "mapping = {\n",
    "    'criterion': ['gini'], # The function to measure the quality of a split\n",
    "    'n_estimators': [40, 50, 60], # Number of estimators\n",
    "    'max_depth': [15, 20, 25], # Maximum depth of the tree\n",
    "    'min_samples_split': [2, 4], # Minimum samples required to split an internal node\n",
    "    'min_samples_leaf': [2, 4] # Minimum number of samples required to be at a leaf node\n",
    "    }\n",
    "\n",
    "# grid_search(model=RandomForestClassifier(random_state=42), mapping_template=mapping, cross_validation=skf, fitting=(X,y))\n",
    "\n",
    "# RandomForestClassifier(max_depth=20, min_samples_leaf=2, n_estimators=40,\n",
    "#                        random_state=42)\n",
    "# Accuracy: 0.836\n",
    "# criterion: gini\n",
    "# max_depth: 20\n",
    "# min_samples_leaf: 2\n",
    "# min_samples_split: 2\n",
    "# n_estimators: 40\n",
    "\n",
    "model_grid = RandomForestClassifier(max_depth=20, min_samples_leaf=2, n_estimators=40, random_state=42)"
   ]
  },
  {
   "cell_type": "markdown",
   "metadata": {},
   "source": [
    "# Recursive feature elimination"
   ]
  },
  {
   "cell_type": "code",
   "execution_count": 22,
   "metadata": {},
   "outputs": [
    {
     "data": {
      "image/png": "[encoded data removed]",
      "text/plain": [
       "<Figure size 1200x500 with 2 Axes>"
      ]
     },
     "metadata": {},
     "output_type": "display_data"
    }
   ],
   "source": [
    "# Function to perform recursive feature elimination with cross-validation\n",
    "def rfecv(model: object, cross_validation, fitting: tuple) -> list[str]:\n",
    "    rfe_cv = RFECV(estimator=model, step=1, cv=cross_validation, scoring=\"accuracy\")\n",
    "    rfe_cv.fit(*fitting)\n",
    "    \n",
    "    # Graphs\n",
    "    fig, axes = plt.subplots(nrows=1, ncols=2, figsize=(12,5))\n",
    "\n",
    "    ax = axes[0]\n",
    "    ax.barh(rfe_cv.feature_names_in_, 1 / rfe_cv.ranking_)\n",
    "    ax.set_xlabel(\"Feature importance\")\n",
    "\n",
    "    ax = axes[1]\n",
    "    ax.plot(range(1, len(rfe_cv.cv_results_[\"mean_test_score\"]) + 1), rfe_cv.cv_results_[\"mean_test_score\"])\n",
    "    ax.set_xlabel(\"Number of features selected\")\n",
    "    ax.set_ylabel(\"Cross-validation score (accuracy)\")\n",
    "\n",
    "    plt.show()\n",
    "\n",
    "    # Feautures\n",
    "    features = [i for i in rfe_cv.get_feature_names_out()]\n",
    "    return features\n",
    "\n",
    "rfecv(model=model_grid,\n",
    "      cross_validation=skf,\n",
    "      fitting=(X,y))\n",
    "\n",
    "features_rfecv = ['Age', 'Fare', 'Pclass_3', 'Sex_male']"
   ]
  },
  {
   "cell_type": "code",
   "execution_count": 19,
   "metadata": {},
   "outputs": [
    {
     "data": {
      "text/plain": [
       "{'bootstrap': True,\n",
       " 'ccp_alpha': 0.0,\n",
       " 'class_weight': None,\n",
       " 'criterion': 'gini',\n",
       " 'max_depth': 20,\n",
       " 'max_features': 'sqrt',\n",
       " 'max_leaf_nodes': None,\n",
       " 'max_samples': None,\n",
       " 'min_impurity_decrease': 0.0,\n",
       " 'min_samples_leaf': 2,\n",
       " 'min_samples_split': 2,\n",
       " 'min_weight_fraction_leaf': 0.0,\n",
       " 'n_estimators': 40,\n",
       " 'n_jobs': None,\n",
       " 'oob_score': False,\n",
       " 'verbose': 0,\n",
       " 'warm_start': False}"
      ]
     },
     "execution_count": 19,
     "metadata": {},
     "output_type": "execute_result"
    }
   ],
   "source": [
    "# Dictionary o parameters without random_state key\n",
    "params = model_grid.get_params()\n",
    "params.pop('random_state')\n",
    "params"
   ]
  },
  {
   "cell_type": "code",
   "execution_count": 23,
   "metadata": {},
   "outputs": [
    {
     "data": {
      "text/plain": [
       "Model(model_name='RandomForestClassifier', accuracy=0.838, precission=0.825, roc_auc=0.864, f1=0.775, recall=0.736)"
      ]
     },
     "execution_count": 23,
     "metadata": {},
     "output_type": "execute_result"
    }
   ],
   "source": [
    "# Model cross-validation\n",
    "model = Model(model=RandomForestClassifier, X_domain=X[features_rfecv], y_domain=y, cross_validator=skf)\n",
    "model.cross_validation_(kwargs=params)\n",
    "model"
   ]
  },
  {
   "cell_type": "code",
   "execution_count": 25,
   "metadata": {},
   "outputs": [
    {
     "data": {
      "image/png": "[encoded data removed]",
      "text/plain": [
       "<Figure size 640x480 with 1 Axes>"
      ]
     },
     "metadata": {},
     "output_type": "display_data"
    }
   ],
   "source": [
    "model_grid.fit(X[features_rfecv], y)\n",
    "plt.barh(features_rfecv, model_grid.feature_importances_)\n",
    "plt.title(f\"Standarized feature importance in a {type(model_grid).__name__}\")\n",
    "plt.show()"
   ]
  }
 ],
 "metadata": {
  "kernelspec": {
   "display_name": "DS-env",
   "language": "python",
   "name": "python3"
  },
  "language_info": {
   "codemirror_mode": {
    "name": "ipython",
    "version": 3
   },
   "file_extension": ".py",
   "mimetype": "text/x-python",
   "name": "python",
   "nbconvert_exporter": "python",
   "pygments_lexer": "ipython3",
   "version": "3.11.6"
  }
 },
 "nbformat": 4,
 "nbformat_minor": 2
}
